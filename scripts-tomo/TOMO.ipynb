{
 "cells": [
  {
   "cell_type": "code",
   "execution_count": 1,
   "id": "interim-immigration",
   "metadata": {},
   "outputs": [],
   "source": [
    "import numpy as np\n",
    "import os"
   ]
  },
  {
   "cell_type": "code",
   "execution_count": 2,
   "id": "freelance-carolina",
   "metadata": {},
   "outputs": [],
   "source": [
    "import scipy.spatial"
   ]
  },
  {
   "cell_type": "code",
   "execution_count": 3,
   "id": "cutting-bullet",
   "metadata": {},
   "outputs": [],
   "source": [
    "stationlist=['NIG01','TDC01','TDC02','TDC03','TDC04','TDC05','TDC06','TDC07',\\\n",
    "             'TDC09','TDC10','TDC11','TDC12','TDC14','TDC15','TDC16','TDC19','TDC20',\\\n",
    "             'TDC22','TDC23','TDC26','TRIS']"
   ]
  },
  {
   "cell_type": "code",
   "execution_count": 4,
   "id": "adjusted-bumper",
   "metadata": {},
   "outputs": [],
   "source": [
    "from obspy.geodetics.base import gps2dist_azimuth"
   ]
  },
  {
   "cell_type": "code",
   "execution_count": 5,
   "id": "brief-receipt",
   "metadata": {},
   "outputs": [],
   "source": [
    "import matplotlib.pyplot as plt"
   ]
  },
  {
   "cell_type": "code",
   "execution_count": 6,
   "id": "contemporary-deadline",
   "metadata": {},
   "outputs": [],
   "source": [
    "def readlatlon(name):\n",
    "    stfile= '../../maps/stations.dat'\n",
    "    op= open(stfile, \"r\")\n",
    "    line=op.readline()\n",
    "    stname =line.split(' ')[3] \n",
    "    while(line!='' ): \n",
    "        stname =line.split(' ')[3]\n",
    "        if (stname.split('\\n')[0]==name):  \n",
    "          stlon =float(line.split(\" \")[0])\n",
    "          stlat =float(line.split(\" \")[1])\n",
    "        line=op.readline()\n",
    "    op.close() \n",
    "    return stlat,stlon\n",
    "\n",
    "\n",
    "def findpath(st1,st2):\n",
    "  import re\n",
    "  #for the raypath\n",
    "  pathfile='./raypath.out'\n",
    "  opp=open(pathfile, \"r\")\n",
    "  linep=opp.readline() #skip 1 line\n",
    "  n1=stationlist.index(st1)\n",
    "  n2=stationlist.index(st2)+1\n",
    "  path=[]\n",
    "  count=0\n",
    "  while(count!=n1*21+n2):\n",
    "    linep=opp.readline()\n",
    "    if re.split(r'[\\n\\s]+',linep)[2]=='': \n",
    "        count+=1\n",
    "        num=re.split(r'[\\n\\s]+',linep)[1]\n",
    "    \n",
    "  linep=opp.readline()\n",
    "  while(re.split(r'[\\n\\s]+',linep)[2]!=''):\n",
    "    \n",
    "    stlon =float(re.split(r'[\\n\\s]+',linep)[2])\n",
    "    stlat =float(re.split(r'[\\n\\s]+',linep)[1])\n",
    "    path.append(np.array([stlon,stlat]))\n",
    "    linep=opp.readline()      \n",
    "  opp.close()\n",
    "  return np.array(path), num\n",
    "\n",
    "def bilinear_interpolation(x,y,x1,x2,y1,y2):\n",
    "        # See formula at:  http://en.wikipedia.org/wiki/Bilinear_interpolation\n",
    "        # order points by x, then by y\n",
    "        \n",
    "        if x1 > x2  or y1 > y2:\n",
    "            raise ValueError('points do not form a rectangle')\n",
    "        if not x1 <= x <= x2 or not y1 <= y <= y2:\n",
    "            raise ValueError('(x, y) not within the rectangle')\n",
    "\n",
    "        a00=(x2- x) * (y2 - y)/(x2 - x1) / (y2 - y1) + 0.0 \n",
    "        a10=(x - x1) * (y2 - y)/(x2 - x1) / (y2 - y1) + 0.0 \n",
    "        a01=(x2 - x) * (y - y1)/(x2 - x1) / (y2 - y1) + 0.0 \n",
    "        a11=(x - x1) * (y - y1)/(x2 - x1) / (y2 - y1) + 0.0\n",
    "        return  np.array([a00,a01,a10,a11])                  \n",
    "                    \n"
   ]
  },
  {
   "cell_type": "markdown",
   "id": "contemporary-slovakia",
   "metadata": {},
   "source": [
    "# try bamin 2001"
   ]
  },
  {
   "cell_type": "code",
   "execution_count": 7,
   "id": "novel-kingston",
   "metadata": {},
   "outputs": [],
   "source": [
    "def calmatrix(paths,vs,nums,x,y,xy,steps):\n",
    "    tree = scipy.spatial.cKDTree(xy)\n",
    "    #build G and d as same \n",
    "    v0=np.mean(vs)\n",
    "    vs=np.array(vs)\n",
    "    #v0=(max(vs)+min(vs))/2\n",
    "    A=np.zeros((len(paths),len(x)*len(y)))\n",
    "    b=np.zeros(len(paths))\n",
    "    steps=np.zeros(len(paths))\n",
    "    \n",
    "    for n,p in enumerate(paths):\n",
    "        _, column_idxs = tree.query(p,k=3)\n",
    "        column_idxs2=np.zeros((len(column_idxs),4),dtype=int) #in case 4 points not a rectangle\n",
    "        step,_ ,_ = gps2dist_azimuth(p[0][0],p[0][1],p[1][0],p[1][1])\n",
    "        steps[n]=step/1000\n",
    "        #column_idxs, counts = np.unique(column_idxs, return_counts=True)\n",
    "        coef=np.zeros((len(p),4))\n",
    "        for k,pi in enumerate(p):\n",
    "            x0=pi[0]\n",
    "            y0=pi[1]\n",
    "            points=xy[np.sort(column_idxs[k])]\n",
    "            (x1,x2,y1,y2)=(min(points.T[0]),max(points.T[0]),min(points.T[1]),max(points.T[1]))\n",
    "            coef[k]=bilinear_interpolation(x0,y0,x1,x2,y1,y2)\n",
    "            _, idxs1 = tree.query([x1,y1])\n",
    "            _, idxs2 = tree.query([x1,y2])\n",
    "            _, idxs3 = tree.query([x2,y1])\n",
    "            _, idxs4 = tree.query([x2,y2])\n",
    "            column_idxs2[k]=np.array([idxs1,idxs2,idxs3,idxs4],dtype=int)\n",
    "        for j,indx in  enumerate(column_idxs2):\n",
    "            A[n][indx] +=coef[j]\n",
    "        b[n]=nums[n]/vs[n]*1\n",
    "        A[n]=A[n]*steps[n]\n",
    "    \n",
    "\n",
    "    # dt vector\n",
    "    step=np.mean(steps)\n",
    "    G=A/v0\n",
    "    b=b*steps\n",
    "    #t0=np.matmul(A/v0,np.ones(len(x)*len(y)))\n",
    "    t0=nums/v0*steps\n",
    "    dt=b-t0\n",
    "\n",
    "    # matrix Cinv\n",
    "    Cinv = np.matrix(np.zeros((len(paths), len(paths))))\n",
    "    np.fill_diagonal(Cinv,1.0)\n",
    "    #Cinv =scipy.sparse.dia_matrix(np.diag(np.ones(len(dt))))\n",
    "    #desity vector \n",
    "    #density =np.sum(A*v0/step, axis=0)\n",
    "    density =np.zeros(len(xy))\n",
    "    for a in A:\n",
    "        for n,den in enumerate(density):\n",
    "            if not a[n]==0:\n",
    "                density[n]+=1\n",
    "    #distance matrix\n",
    "    dists = np.zeros((len(x)*len(y), len(x)*len(y)))\n",
    "    for n,xyi in enumerate(xy):\n",
    "        dists[n]=np.sum((xy-xyi)**2,axis=1)**0.5*111.11\n",
    "    \n",
    "    #build Q\n",
    "    S = np.exp(- dists**2 / (2 * correlation_length**2))\n",
    "    #S /= (S.sum(axis=-1) - np.diag(S))\n",
    "    for n in range(0,len(S)):\n",
    "        S[n] = S[n]/(S[n].sum(axis=-1)-1)\n",
    "    #for n in range(0,len(S)):\n",
    "    #    S[n] = S[n]/S[n].sum(axis=-1)\n",
    "    # setting up spatial regularization matrix F\n",
    "    F = np.matrix(-S)\n",
    "    F[np.diag_indices_from(F)] = 1\n",
    "    F *= alpha\n",
    "    # setting up regularization matrix Q\n",
    "    # ... Ft.F part\n",
    "   \n",
    "    Q = F.T * F\n",
    "    # ... Ht.H part\n",
    "    for i, path_density in enumerate(density):\n",
    "        Q[i, i] += beta**2 * np.exp(-2 * lambda_ * path_density)\n",
    "\n",
    "    #calculate best dv    \n",
    "    covmopt = (G.T * Cinv * G + Q).I\n",
    "    Ginv = covmopt * G.T\n",
    "    mopt = Ginv * Cinv * (dt.reshape(len(dt),1))     \n",
    "    mopt=np.array(mopt.T)[0]\n",
    "    \n",
    "    return mopt,v0"
   ]
  },
  {
   "cell_type": "code",
   "execution_count": 1115,
   "id": "registered-treasure",
   "metadata": {},
   "outputs": [],
   "source": [
    "def readfiles(direction,per):\n",
    "    piarfile='./Good%s/stationpairs.dat'%direction\n",
    "    opp=open(piarfile, \"r\")\n",
    "    linep=opp.readline()\n",
    "    paths=[]\n",
    "    nums=[]\n",
    "    vs=[]\n",
    "    p=round(per,1)\n",
    "    while(linep!='' ):\n",
    "        phase_vel=np.loadtxt('./Good%s/'%direction+linep.split('_')[0]+'_'+linep.split('_')[1]+'_ph_smooth')\n",
    "        if  phase_vel[phase_vel[:,0]==p].T[1].size==0 or np. isnan(phase_vel[phase_vel.T[0]==round(p,1)][0][1]):\n",
    "            linep=opp.readline() \n",
    "            continue\n",
    "\n",
    "        if float(phase_vel[phase_vel[:,0]==p].T[2]) <2.0:\n",
    "            linep=opp.readline() \n",
    "            continue\n",
    "            \n",
    "        stat =[linep.split('_')[0],linep.split('_')[1]]\n",
    "        path,num=findpath(stat[0],stat[1])\n",
    "        \n",
    "        stla1,stlo1= readlatlon(stat[0])\n",
    "        stla2,stlo2= readlatlon(stat[1])\n",
    "        dist,az,baz = gps2dist_azimuth(stla1,stlo1,\n",
    "                              stla2,stlo2)\n",
    "        if dist >400000:\n",
    "            linep=opp.readline() \n",
    "            continue\n",
    "        \n",
    "        paths.append(path)\n",
    "        nums.append(int(num))\n",
    "        v=float(phase_vel[phase_vel[:,0]==p].T[1])\n",
    "        vs.append(v)\n",
    "        stla1,stlo1= readlatlon(stat[0])\n",
    "        stla2,stlo2= readlatlon(stat[1])\n",
    "        linep=opp.readline()     \n",
    "    opp.close()\n",
    "    return vs,nums,paths"
   ]
  },
  {
   "cell_type": "code",
   "execution_count": 1116,
   "id": "owned-sugar",
   "metadata": {},
   "outputs": [
    {
     "name": "stdout",
     "output_type": "stream",
     "text": [
      "exist\n"
     ]
    }
   ],
   "source": [
    "#loop auto\n",
    "\n",
    "correlation_length=25\n",
    "alpha=35\n",
    "beta=100\n",
    "lambda_=0.9\n",
    "\n",
    "for size in [0.2]:\n",
    "    outdir='./vel2D/size%s-3/'%size\n",
    "    try:\n",
    "        os.mkdir(outdir)\n",
    "    except:\n",
    "        print('exist')\n",
    "    x=np.arange(-40,-35+0.1,size)\n",
    "    y=np.arange(-16,-9+0.1,size)\n",
    "    xg, yg = np.meshgrid(np.array(x),np.array(y))\n",
    "    xy=np.c_[yg.T.ravel(),xg.T.ravel()]\n",
    "    for direction in ['RR','TT']:\n",
    "        for per in np.arange(3.5,7.6,0.1):\n",
    "\n",
    "            vs,nums,paths=readfiles(direction,per)\n",
    "            \n",
    "\n",
    "            mopt,v0=calmatrix(paths,vs,nums,x,y,xy,steps)\n",
    "\n",
    "            vopt=v0/(mopt+1)\n",
    "            \n",
    "            dvopt=1/(mopt+1)-1\n",
    "\n",
    "            #save vel file\n",
    "            fname='%s_%s.vel'%(direction,per)\n",
    "            ops=open(outdir+'%s'%fname, \"w\")\n",
    "            count=0\n",
    "            for xi in x:\n",
    "                for yi in y:\n",
    "                    ops.write('%0.5f %0.5f %0.5f'%(yi,xi,vopt[count])+'\\n')\n",
    "                    count+=1       \n",
    "            ops.close()\n",
    "\n",
    "\n",
    "            #save dv file\n",
    "            fname='%s_%ss.dv'%(direction,per)\n",
    "            ops=open(outdir+'%s'%fname, \"w\")\n",
    "            count=0\n",
    "            for xi in x:\n",
    "                for yi in y:\n",
    "                    ops.write('%0.5f %0.5f %0.5f'%(yi,xi,(dvopt[count]*100))+'\\n')\n",
    "                    count+=1       \n",
    "            ops.close()\n",
    "                  \n",
    "                  \n",
    "            os.chdir(\"%s\"%outdir)\n",
    "            os.system('cp ../map* ./')\n",
    "            os.system('cp ../*cpt ./')\n",
    "             \n",
    "            fname='%s_%s.vel'%(direction,per)\n",
    "            os.system('./map.gmt ./%s %s %s'%(fname,size,size) )         \n",
    "            fname='%s_%ss.dv'%(direction,per) \n",
    "\n",
    "            os.system('./mapdv.gmt %s %s %s'%(fname,size,size) )\n",
    "            os.chdir(\"../../\")\n",
    "            "
   ]
  },
  {
   "cell_type": "markdown",
   "id": "dangerous-hygiene",
   "metadata": {},
   "source": [
    "# single "
   ]
  },
  {
   "cell_type": "code",
   "execution_count": 741,
   "id": "fifteen-times",
   "metadata": {},
   "outputs": [],
   "source": [
    "#model define\n",
    "x=np.arange(-40.0,-35+0.1,0.2)\n",
    "y=np.arange(-16,-9+0.1,0.2)\n",
    "xg, yg = np.meshgrid(np.array(x),np.array(y))\n",
    "xy=np.c_[yg.T.ravel(),xg.T.ravel()]\n",
    "tree = scipy.spatial.cKDTree(xy)\n"
   ]
  },
  {
   "cell_type": "code",
   "execution_count": 1171,
   "id": "featured-wisconsin",
   "metadata": {},
   "outputs": [
    {
     "name": "stdout",
     "output_type": "stream",
     "text": [
      "17\n",
      "['TDC01', 'TDC15']\n",
      "['TDC01', 'TDC20']\n",
      "['TDC01', 'TDC22']\n",
      "['TDC01', 'TDC23']\n",
      "['TDC02', 'TDC20']\n",
      "['TDC02', 'TDC22']\n"
     ]
    }
   ],
   "source": [
    "direction='RR'\n",
    "per=5.0\n",
    "#find paths\n",
    "piarfile='./Good%s/stationpairs.dat'%direction\n",
    "opp=open(piarfile, \"r\")\n",
    "linep=opp.readline()\n",
    "paths=[]\n",
    "nums=[]\n",
    "vs=[]\n",
    "p=round(per,1)\n",
    "while(linep!='' ):\n",
    "    phase_vel=np.loadtxt('./Good%s/'%direction+linep.split('_')[0]+'_'+linep.split('_')[1]+'_ph_smooth')\n",
    "    if  phase_vel[phase_vel[:,0]==p].T[1].size==0 or np.isnan(phase_vel[phase_vel[:,0]==p].T[1]):\n",
    "        linep=opp.readline() \n",
    "        continue\n",
    "     \n",
    "    stat =[linep.split('_')[0],linep.split('_')[1]]\n",
    "    path,num=findpath(stat[0],stat[1])\n",
    "\n",
    "    stla1,stlo1= readlatlon(stat[0])\n",
    "    stla2,stlo2= readlatlon(stat[1])\n",
    "    '''\n",
    "    dist,az,baz = gps2dist_azimuth(stla1,stlo1,\n",
    "                              stla2,stlo2)\n",
    "    if dist >400000:\n",
    "        linep=opp.readline() \n",
    "        print(stat)\n",
    "        continue\n",
    "    '''\n",
    "    paths.append(path)\n",
    "    nums.append(int(num))\n",
    "    v=float(phase_vel[phase_vel[:,0]==p].T[1])\n",
    "    vs.append(v)\n",
    "    linep=opp.readline()     \n",
    "opp.close()\n"
   ]
  },
  {
   "cell_type": "code",
   "execution_count": 76,
   "id": "coupled-chain",
   "metadata": {},
   "outputs": [
    {
     "name": "stderr",
     "output_type": "stream",
     "text": [
      "/home/gphs1/hzhang/anaconda3/envs/obspy/lib/python3.7/site-packages/ipykernel_launcher.py:7: VisibleDeprecationWarning: Creating an ndarray from ragged nested sequences (which is a list-or-tuple of lists-or-tuples-or ndarrays with different lengths or shapes) is deprecated. If you meant to do this, you must specify 'dtype=object' when creating the ndarray.\n",
      "  import sys\n"
     ]
    }
   ],
   "source": [
    "#try to remove 10% outlier\n",
    "num=len(vs)\n",
    "idx1=int(0.05*num)\n",
    "vmin=np.sort(vs)[idx1]\n",
    "vmax=np.sort(vs)[-idx1]\n",
    "#vmax=5.0\n",
    "paths=np.array(paths)[(vs<vmax)&(vs>vmin)]\n",
    "nums=np.array(nums)[(vs<vmax)&(vs>vmin)]\n",
    "vs=np.array(vs)[(vs<vmax)&(vs>vmin)]"
   ]
  },
  {
   "cell_type": "code",
   "execution_count": 1178,
   "id": "confused-royal",
   "metadata": {},
   "outputs": [
    {
     "data": {
      "text/plain": [
       "'\\nQ=F\\nfor i, path_density in enumerate(density):\\n    Q[i, i] += beta**1 * np.exp(-1 * lambda_ * path_density)\\n\\n#dv=(np.matmul(G.T , G) +np.matmul(H.T , H) ).I*G.T*(dt.reshape(len(dt),1))  \\ncovmopt = (G.T * Cinv * G + Q.T*Q ).I\\nGinv = covmopt * G.T\\nmopt = Ginv * Cinv * (dt.reshape(len(dt),1))    \\n'"
      ]
     },
     "execution_count": 1178,
     "metadata": {},
     "output_type": "execute_result"
    }
   ],
   "source": [
    "correlation_length=25\n",
    "alpha=35\n",
    "beta=100\n",
    "lambda_=0.9\n",
    "#build G and d as same \n",
    "v0=np.mean(vs)\n",
    "vs=np.array(vs)\n",
    "#v0=(max(vs)+min(vs))/2\n",
    "A=np.zeros((len(paths),len(x)*len(y)))\n",
    "b=np.zeros(len(paths))\n",
    "steps=np.zeros(len(paths))\n",
    "for n,p in enumerate(paths):\n",
    "    _, column_idxs = tree.query(p,k=3)\n",
    "    column_idxs2=np.zeros((len(column_idxs),4),dtype=int) #in case 4 points not a rectangle\n",
    "    step,_ ,_ = gps2dist_azimuth(p[0][0],p[0][1],p[1][0],p[1][1])\n",
    "    steps[n]=step/1000\n",
    "    #column_idxs, counts = np.unique(column_idxs, return_counts=True)\n",
    "    coef=np.zeros((len(p),4))\n",
    "    for k,pi in enumerate(p):\n",
    "        x0=pi[0]\n",
    "        y0=pi[1]\n",
    "        points=xy[np.sort(column_idxs[k])]\n",
    "        (x1,x2,y1,y2)=(min(points.T[0]),max(points.T[0]),min(points.T[1]),max(points.T[1]))\n",
    "        coef[k]=bilinear_interpolation(x0,y0,x1,x2,y1,y2)\n",
    "        _, idxs1 = tree.query([x1,y1])\n",
    "        _, idxs2 = tree.query([x1,y2])\n",
    "        _, idxs3 = tree.query([x2,y1])\n",
    "        _, idxs4 = tree.query([x2,y2])\n",
    "        column_idxs2[k]=np.array([idxs1,idxs2,idxs3,idxs4],dtype=int)\n",
    "    for j,indx in  enumerate(column_idxs2):\n",
    "        A[n][indx] +=coef[j]\n",
    "    b[n]=nums[n]/vs[n]*1\n",
    "    A[n]=A[n]*steps[n]\n",
    "    \n",
    "\n",
    "\n",
    "# dt vector\n",
    "step=np.mean(steps)\n",
    "G=A/v0\n",
    "b=b*steps \n",
    "#t0=np.matmul(A/v0,np.ones(len(x)*len(y)))\n",
    "t0=nums/v0*steps\n",
    "dt=b-t0\n",
    "'''\n",
    "#make checkboard model\n",
    "step=np.mean(steps)\n",
    "G=A/v0\n",
    "b=b*steps\n",
    "vc=np.ones(len(x)*len(y))\n",
    "count=0\n",
    "for n,xi in enumerate(x):\n",
    "    v1=0.2*v0*(-1)**(int((n)/5)+1)\n",
    "    for m,yi in enumerate(y):\n",
    "        vc[count]=v0-v1*(-1)**(int((m)/5)+1)\n",
    "        count+=1\n",
    "tc=np.matmul(G*v0,1/vc)        \n",
    "t0=nums/v0*steps\n",
    "dt=tc-t0\n",
    "#noise = np.random.normal(-0.05*v0, 0.05*v0, dt.shape)\n",
    "#dt=dt+noise\n",
    "'''\n",
    "# matrix Cinv\n",
    "Cinv = np.matrix(np.zeros((len(paths), len(paths))))\n",
    "np.fill_diagonal(Cinv,1.0)\n",
    "#Cinv =scipy.sparse.dia_matrix(np.diag(np.ones(len(dt))))\n",
    "#desity vector \n",
    "#density =np.sum(A*v0/step, axis=0)\n",
    "density =np.zeros(len(xy))\n",
    "for a in A:\n",
    "    for n,den in enumerate(density):\n",
    "        if not a[n]==0:\n",
    "            density[n]+=1\n",
    "#distance matrix\n",
    "dists = np.zeros((len(x)*len(y), len(x)*len(y)))\n",
    "for n,xyi in enumerate(xy):\n",
    "    dists[n]=np.sum((xy-xyi)**2,axis=1)**0.5*111.11\n",
    "\n",
    "#build Q\n",
    "S = np.exp(- dists**2 / (2 * correlation_length**2))\n",
    "#S /= (S.sum(axis=-1) - np.diag(S))\n",
    "for n in range(0,len(S)):\n",
    "    S[n] = S[n]/(S[n].sum(axis=-1)-1)\n",
    "#for n in range(0,len(S)):\n",
    "#    S[n] = S[n]/S[n].sum(axis=-1)\n",
    "# setting up spatial regularization matrix F\n",
    "F = np.matrix(-S)\n",
    "F[np.diag_indices_from(F)] = 1\n",
    "F *= alpha\n",
    "\n",
    "# setting up regularization matrix Q\n",
    "# ... Ft.F part\n",
    "Q = F.T * F\n",
    "# ... Ht.H part\n",
    "for i, path_density in enumerate(density):\n",
    "    Q[i, i] += beta**2 * np.exp(-2 * lambda_ * path_density)\n",
    "#calculate best dv    \n",
    "covmopt = (G.T * Cinv * G + Q).I\n",
    "Ginv = covmopt * G.T\n",
    "mopt = Ginv * Cinv * (dt.reshape(len(dt),1))    \n",
    "'''\n",
    "Q=F\n",
    "for i, path_density in enumerate(density):\n",
    "    Q[i, i] += beta**1 * np.exp(-1 * lambda_ * path_density)\n",
    "\n",
    "#dv=(np.matmul(G.T , G) +np.matmul(H.T , H) ).I*G.T*(dt.reshape(len(dt),1))  \n",
    "covmopt = (G.T * Cinv * G + Q.T*Q ).I\n",
    "Ginv = covmopt * G.T\n",
    "mopt = Ginv * Cinv * (dt.reshape(len(dt),1))    \n",
    "'''\n"
   ]
  },
  {
   "cell_type": "code",
   "execution_count": 1137,
   "id": "friendly-grade",
   "metadata": {
    "scrolled": false
   },
   "outputs": [
    {
     "name": "stderr",
     "output_type": "stream",
     "text": [
      "/home/gphs1/hzhang/anaconda3/envs/obspy/lib/python3.7/site-packages/ipykernel_launcher.py:7: MatplotlibDeprecationWarning: shading='flat' when X and Y have the same dimensions as C is deprecated since 3.3.  Either specify the corners of the quadrilaterals with X and Y, or pass shading='auto', 'nearest' or 'gouraud', or set rcParams['pcolor.shading'].  This will become an error two minor releases later.\n",
      "  import sys\n"
     ]
    },
    {
     "data": {
      "image/png": "[encoded data removed]",
      "text/plain": [
       "<Figure size 432x288 with 2 Axes>"
      ]
     },
     "metadata": {
      "needs_background": "light"
     },
     "output_type": "display_data"
    }
   ],
   "source": [
    "import matplotlib as mpl\n",
    "cmap = plt.get_cmap('seismic')\n",
    "zmin=np.round(min(1/(mopt+(1))-1)*100,2)\n",
    "zmax=np.round(max(1/(mopt+(1))-1)*100,2)\n",
    "bounds = np.arange(zmin,-zmin,1)\n",
    "norm = mpl.colors.BoundaryNorm(bounds, cmap.N)\n",
    "plt.pcolormesh(y,x,100*(1/(mopt+(1))-1).reshape(len(x),len(y)),cmap=cmap,norm=norm)\n",
    "plt.axis('equal')\n",
    "#plt.clim(3.2,4.0)\n",
    "plt.colorbar(orientation='vertical')\n",
    "plt.show()"
   ]
  },
  {
   "cell_type": "code",
   "execution_count": 1022,
   "id": "thorough-throat",
   "metadata": {
    "scrolled": false
   },
   "outputs": [
    {
     "name": "stderr",
     "output_type": "stream",
     "text": [
      "/home/gphs1/hzhang/anaconda3/envs/obspy/lib/python3.7/site-packages/ipykernel_launcher.py:7: MatplotlibDeprecationWarning: shading='flat' when X and Y have the same dimensions as C is deprecated since 3.3.  Either specify the corners of the quadrilaterals with X and Y, or pass shading='auto', 'nearest' or 'gouraud', or set rcParams['pcolor.shading'].  This will become an error two minor releases later.\n",
      "  import sys\n"
     ]
    },
    {
     "data": {
      "image/png": "[encoded data removed]",
      "text/plain": [
       "<Figure size 432x288 with 2 Axes>"
      ]
     },
     "metadata": {
      "needs_background": "light"
     },
     "output_type": "display_data"
    }
   ],
   "source": [
    "import matplotlib as mpl\n",
    "cmap = plt.get_cmap('seismic')\n",
    "zmin=np.round(min(v0/(mopt+(1))),2)\n",
    "zmax=np.round(max(v0/(mopt+(1))),2)\n",
    "bounds = np.arange(zmin,zmax,0.01)\n",
    "norm = mpl.colors.BoundaryNorm(bounds, cmap.N)\n",
    "plt.pcolormesh(y,x,(v0/(mopt+(1))).reshape(len(x),len(y)),cmap=cmap,norm=norm)\n",
    "plt.axis('equal')\n",
    "#plt.clim(3.2,4.0)\n",
    "plt.colorbar(orientation='vertical')\n",
    "plt.show()"
   ]
  },
  {
   "cell_type": "code",
   "execution_count": 1021,
   "id": "sound-chinese",
   "metadata": {
    "scrolled": false
   },
   "outputs": [
    {
     "name": "stderr",
     "output_type": "stream",
     "text": [
      "/home/gphs1/hzhang/anaconda3/envs/obspy/lib/python3.7/site-packages/ipykernel_launcher.py:7: MatplotlibDeprecationWarning: shading='flat' when X and Y have the same dimensions as C is deprecated since 3.3.  Either specify the corners of the quadrilaterals with X and Y, or pass shading='auto', 'nearest' or 'gouraud', or set rcParams['pcolor.shading'].  This will become an error two minor releases later.\n",
      "  import sys\n"
     ]
    },
    {
     "data": {
      "image/png": "[encoded data removed]",
      "text/plain": [
       "<Figure size 432x288 with 2 Axes>"
      ]
     },
     "metadata": {
      "needs_background": "light"
     },
     "output_type": "display_data"
    }
   ],
   "source": [
    "import matplotlib as mpl\n",
    "cmap = plt.get_cmap('seismic')\n",
    "zmin=int(min(v0/(mopt+(1))-v0)/0.1)*0.1\n",
    "zmax=int(max(v0/(mopt+(1))-v0)/0.1)*0.1\n",
    "bounds = np.arange(zmin,-zmin,0.01)\n",
    "norm = mpl.colors.BoundaryNorm(bounds, cmap.N)\n",
    "plt.pcolormesh(y,x,(v0/(mopt+(1))-v0).reshape(len(x),len(y)),cmap=cmap,norm=norm)\n",
    "plt.axis('equal')\n",
    "#plt.clim(3.2,4.0)\n",
    "plt.colorbar(orientation='vertical')\n",
    "plt.show()"
   ]
  },
  {
   "cell_type": "code",
   "execution_count": 965,
   "id": "demanding-glasgow",
   "metadata": {
    "scrolled": false
   },
   "outputs": [
    {
     "name": "stderr",
     "output_type": "stream",
     "text": [
      "/home/gphs1/hzhang/anaconda3/envs/obspy/lib/python3.7/site-packages/ipykernel_launcher.py:7: MatplotlibDeprecationWarning: shading='flat' when X and Y have the same dimensions as C is deprecated since 3.3.  Either specify the corners of the quadrilaterals with X and Y, or pass shading='auto', 'nearest' or 'gouraud', or set rcParams['pcolor.shading'].  This will become an error two minor releases later.\n",
      "  import sys\n"
     ]
    },
    {
     "data": {
      "image/png": "[encoded data removed]",
      "text/plain": [
       "<Figure size 432x288 with 2 Axes>"
      ]
     },
     "metadata": {
      "needs_background": "light"
     },
     "output_type": "display_data"
    }
   ],
   "source": [
    "import matplotlib as mpl\n",
    "cmap = plt.get_cmap('seismic')\n",
    "zmin=int(min(v0/(mopt+(1))-v0)/0.1)*0.1\n",
    "zmax=int(max(v0/(mopt+(1))-v0)/0.1)*0.1\n",
    "bounds = np.arange(zmin,-zmin,0.1)\n",
    "norm = mpl.colors.BoundaryNorm(bounds, cmap.N)\n",
    "plt.pcolormesh(y,x,(v0/(mopt+(1))-v0).reshape(len(x),len(y)),cmap=cmap,norm=norm)\n",
    "plt.axis('equal')\n",
    "#plt.clim(3.2,4.0)\n",
    "plt.colorbar(orientation='vertical')\n",
    "plt.show()"
   ]
  },
  {
   "cell_type": "code",
   "execution_count": 312,
   "id": "published-efficiency",
   "metadata": {},
   "outputs": [
    {
     "data": {
      "text/plain": [
       "<matplotlib.colorbar.Colorbar at 0x7f8b4197a890>"
      ]
     },
     "execution_count": 312,
     "metadata": {},
     "output_type": "execute_result"
    },
    {
     "data": {
      "image/png": "[encoded data removed]",
      "text/plain": [
       "<Figure size 432x288 with 2 Axes>"
      ]
     },
     "metadata": {
      "needs_background": "light"
     },
     "output_type": "display_data"
    }
   ],
   "source": [
    "#plt.pcolormesh(S/(S.sum(axis=-1)- np.diag(S)))\n",
    "#plt.plot(np.array(S[0,1::]))\n",
    "plt.pcolormesh(density.reshape(len(x),len(y)))\n",
    "#plt.pcolormesh(S)\n",
    "plt.colorbar(orientation='vertical')"
   ]
  },
  {
   "cell_type": "code",
   "execution_count": 1180,
   "id": "refined-satisfaction",
   "metadata": {},
   "outputs": [],
   "source": [
    "#resolution \n",
    "R = Ginv * Cinv * G"
   ]
  },
  {
   "cell_type": "code",
   "execution_count": 334,
   "id": "dangerous-universal",
   "metadata": {},
   "outputs": [],
   "source": [
    "from scipy.optimize import curve_fit"
   ]
  },
  {
   "cell_type": "code",
   "execution_count": 1181,
   "id": "obvious-colony",
   "metadata": {},
   "outputs": [],
   "source": [
    "        Rradius = np.zeros(len(xy))\n",
    "        heights = np.zeros(len(xy))\n",
    "        max_amp=np.max(R)\n",
    "        for i, Ri in enumerate(np.array(R)):\n",
    "            lon0, lat0 = xy[i]\n",
    "            if Ri.max()<0.2*max_amp:\n",
    "                continue\n",
    "            # best-fitting cone at point (lon0, lat0)\n",
    "\n",
    "            # Function returning the height of cone of radius *r0*\n",
    "            # and peak *z0*, at a point located *r* km away from\n",
    "            # the cone's center\n",
    "            '''\n",
    "            if resolution_fit.lower().strip() == 'cone':\n",
    "                def cone_height(r, z0, r0):\n",
    "                    \"\"\"\n",
    "                    Cone\n",
    "                    \"\"\"\n",
    "                    return np.where(r < r0, z0 * (1 - r / r0), 0.0)\n",
    "            elif resolution_fit.lower().strip() == 'gaussian':\n",
    "                def cone_height(r, z0, r0):\n",
    "                    \"\"\"\n",
    "                    Gaussian function\n",
    "                    \"\"\"\n",
    "                    sigma = r0 / 2.0\n",
    "                    return z0 * np.exp(- r**2 / (2 * sigma**2))\n",
    "            else:\n",
    "                s = \"Unknown function to fit resolution: '{}'\"\n",
    "                raise Exception(s.format(resolution_fit))\n",
    "            ''' \n",
    "            def cone_height(r, z0, r0):\n",
    "                return np.where(r < r0, z0 * (1 - r / r0), 0.0)\n",
    "            '''            \n",
    "            def cone_height(r, z0, r0):\n",
    "                sigma = r0 / 2.0\n",
    "                return z0 * np.exp(- r**2 / (2 * sigma**2))\n",
    "            ''' \n",
    "            # distances between nodes and cone's center (lon0, lat0)\n",
    "            rdata=np.sum((xy-xy[i])**2,axis=1)**0.5*111.11\n",
    "            # best possible resolution *rmin* = 2 * inter-node distance\n",
    "            # -> estimating *rmin* along the meridian crossing the cone's\n",
    "            #    center (conservative choice as it yields the largest\n",
    "            #    possible value)\n",
    "            d2rad = np.pi / 180.0\n",
    "            rmin = 2 * d2rad * 6371.0 * max(0.2 * np.cos(lat0 * d2rad),0.2)\n",
    "            #rmin=0.2*111.11*2\n",
    "            # fitting the above function to observed heights along nodes,\n",
    "            # in array abs(Ri)\n",
    "            popt, _ = curve_fit(f=cone_height, xdata=rdata[Ri>0.05*max(Ri)], ydata=np.abs(Ri[Ri>0.05*max(Ri)]),\n",
    "                                p0=[1, 2*rmin], maxfev=1000)\n",
    "            z0, r0 = popt\n",
    "\n",
    "            # reslution cannot be better than *rmin*\n",
    "            r0 = max(rmin, r0)\n",
    "\n",
    "            # appending spatial resolution to array\n",
    "            Rradius[i] = r0\n",
    "            heights[i] = z0\n",
    "        #Rradius[Rradius>250.0] = 0.0\n",
    "        Rradius[Rradius==0.0] = np.nan\n",
    "       "
   ]
  },
  {
   "cell_type": "code",
   "execution_count": 815,
   "id": "passive-interview",
   "metadata": {},
   "outputs": [],
   "source": [
    "rdata=np.sum((xy-xy[520])**2,axis=1)**0.5*111.11\n",
    "\n",
    "popt, _=curve_fit(f=cone_height, xdata=rdata[Ri>0.*max(Ri)], ydata=np.abs(Ri[Ri>0.1*max(Ri)]),\n",
    "                                p0=[1, 2*rmin], maxfev=1000)"
   ]
  },
  {
   "cell_type": "code",
   "execution_count": 649,
   "id": "foreign-return",
   "metadata": {},
   "outputs": [],
   "source": [
    "import numpy as np\n",
    "from skimage.measure import EllipseModel\n",
    "from matplotlib.patches import Ellipse\n",
    "import matplotlib.pyplot as plt"
   ]
  },
  {
   "cell_type": "code",
   "execution_count": 742,
   "id": "foreign-sherman",
   "metadata": {},
   "outputs": [],
   "source": [
    "Rradius = np.zeros(len(xy))\n",
    "max_amp=np.max(R)\n",
    "for i, Ri in enumerate(np.array(R)):\n",
    "    if Ri.max()<0.2*max_amp:\n",
    "        continue\n",
    "    Ri=np.array(Ri).flatten()\n",
    "    xys=xy[Ri>=0.1*max(Ri)]\n",
    "\n",
    "    ell = EllipseModel()\n",
    "    ell.estimate(xys)\n",
    "\n",
    "    xc, yc, a, b, theta = ell.params\n",
    "    Rradius[i]=b*2*111.11\n",
    "Rradius[Rradius==0.0] = np.nan"
   ]
  }
 ],
 "metadata": {
  "kernelspec": {
   "display_name": "Python 3",
   "language": "python",
   "name": "python3"
  },
  "language_info": {
   "codemirror_mode": {
    "name": "ipython",
    "version": 3
   },
   "file_extension": ".py",
   "mimetype": "text/x-python",
   "name": "python",
   "nbconvert_exporter": "python",
   "pygments_lexer": "ipython3",
   "version": "3.7.10"
  }
 },
 "nbformat": 4,
 "nbformat_minor": 5
}
